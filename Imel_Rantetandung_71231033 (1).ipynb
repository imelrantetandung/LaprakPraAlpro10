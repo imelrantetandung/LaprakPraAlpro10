{
  "nbformat": 4,
  "nbformat_minor": 0,
  "metadata": {
    "colab": {
      "provenance": []
    },
    "kernelspec": {
      "name": "python3",
      "display_name": "Python 3"
    },
    "language_info": {
      "name": "python"
    }
  },
  "cells": [
    {
      "cell_type": "code",
      "execution_count": null,
      "metadata": {
        "id": "bIqaKrEaMmj8"
      },
      "outputs": [],
      "source": [
        "#SOAL NO.1\n",
        "nilai = [8,3,5,4,4,5,3,4,4]\n",
        "nilai.sort(reverse=True)\n",
        "terbaik_3 = nilai[:3]\n",
        "print(terbaik_3)\n"
      ]
    },
    {
      "cell_type": "code",
      "source": [
        "#SOAL NO.2\n",
        "while True:\n",
        "    masukkan = input(\"Masukkan angka (ketik 'done' untuk selesai): \")\n",
        "    if masukkan.lower() == 'done':\n",
        "        break\n",
        "    try:\n",
        "        angka.append(int(masukkan))\n",
        "    except ValueError:\n",
        "        print(\"Inputan anda salah, silahkan ulangi\")\n",
        "\n",
        "if angka:\n",
        "    print(\"Nilai maksimum:\",max(angka))\n",
        "    print(\"Nilai minimum:\", min(angka))\n",
        "else:\n",
        "    print(\"Tidak ada angka yang dimasukkan.\")"
      ],
      "metadata": {
        "id": "Y5oWSpkIMveN"
      },
      "execution_count": null,
      "outputs": []
    },
    {
      "cell_type": "code",
      "source": [
        "#SOAL NO.3\n",
        "file = open('file.txt', 'r')\n",
        "kata = []\n",
        "\n",
        "for line in file:\n",
        "    for word in line.split():\n",
        "        if word not in kata:\n",
        "            kata.append(word)\n",
        "\n",
        "print(kata)"
      ],
      "metadata": {
        "id": "FZEP5j0tM6DG"
      },
      "execution_count": null,
      "outputs": []
    }
  ]
}